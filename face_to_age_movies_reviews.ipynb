{
 "cells": [
  {
   "cell_type": "markdown",
   "metadata": {},
   "source": [
    "# Deep Learning challenge"
   ]
  },
  {
   "cell_type": "markdown",
   "metadata": {},
   "source": [
    "This challenge is split into 2 independent parts:\n",
    "1. CNN challenge - Face to Age\n",
    "2. RNN challenge - Sentiment Analysis of Movies Reviews"
   ]
  },
  {
   "cell_type": "markdown",
   "metadata": {
    "id": "WCk2YEqBhdP2"
   },
   "source": [
    "## 1. CNN challenge - Face to Age"
   ]
  },
  {
   "cell_type": "markdown",
   "metadata": {
    "id": "JBXc4442fJZV"
   },
   "source": [
    "### Objectives\n",
    "-  Visualize images\n",
    "-  Preprocess images for Neural Networks\n",
    "-  Fit a custom CNN for a regression task\n",
    "-  Fine-tune an analyse model performance"
   ]
  },
  {
   "cell_type": "code",
   "execution_count": 151,
   "metadata": {},
   "outputs": [],
   "source": [
    "import pandas as pd\n",
    "import matplotlib.pyplot as plt\n",
    "import seaborn as sn\n",
    "import numpy as np\n",
    "\n",
    "from sklearn.model_selection import train_test_split\n",
    "from sklearn.metrics import mean_absolute_error as skmean_absolute_error\n",
    "\n",
    "from tensorflow.keras import models, layers\n",
    "from tensorflow.keras.metrics import mean_absolute_error\n",
    "from tensorflow.keras.callbacks import EarlyStopping\n"
   ]
  },
  {
   "cell_type": "markdown",
   "metadata": {
    "id": "gv76LFXjqzau"
   },
   "source": [
    "### 1.1 Visualize images"
   ]
  },
  {
   "cell_type": "markdown",
   "metadata": {},
   "source": [
    "**👉 Load the dataset (200 Mo)**"
   ]
  },
  {
   "cell_type": "code",
   "execution_count": 127,
   "metadata": {
    "ExecuteTime": {
     "end_time": "2021-09-10T13:30:08.917089Z",
     "start_time": "2021-09-10T13:30:01.851323Z"
    },
    "executionInfo": {
     "elapsed": 10102,
     "status": "ok",
     "timestamp": 1615229794824,
     "user": {
      "displayName": "Bruno Lajoie",
      "photoUrl": "https://lh3.googleusercontent.com/a-/AOh14Gg0dl6gThG8gOPbCvHbgt62zQnsi8cgbQ7C5HkD_Cg=s64",
      "userId": "15793030209206844069"
     },
     "user_tz": -60
    },
    "id": "2tZUrTCepyPs"
   },
   "outputs": [
    {
     "data": {
      "text/html": [
       "<div>\n",
       "<style scoped>\n",
       "    .dataframe tbody tr th:only-of-type {\n",
       "        vertical-align: middle;\n",
       "    }\n",
       "\n",
       "    .dataframe tbody tr th {\n",
       "        vertical-align: top;\n",
       "    }\n",
       "\n",
       "    .dataframe thead th {\n",
       "        text-align: right;\n",
       "    }\n",
       "</style>\n",
       "<table border=\"1\" class=\"dataframe\">\n",
       "  <thead>\n",
       "    <tr style=\"text-align: right;\">\n",
       "      <th></th>\n",
       "      <th>age</th>\n",
       "      <th>pixels</th>\n",
       "    </tr>\n",
       "  </thead>\n",
       "  <tbody>\n",
       "    <tr>\n",
       "      <th>0</th>\n",
       "      <td>45</td>\n",
       "      <td>200 168 96 107 123 132 132 135 135 134 134 137...</td>\n",
       "    </tr>\n",
       "    <tr>\n",
       "      <th>1</th>\n",
       "      <td>1</td>\n",
       "      <td>223 226 231 234 236 238 238 240 240 240 240 23...</td>\n",
       "    </tr>\n",
       "    <tr>\n",
       "      <th>2</th>\n",
       "      <td>35</td>\n",
       "      <td>23 29 24 29 47 71 110 141 166 169 169 174 179 ...</td>\n",
       "    </tr>\n",
       "    <tr>\n",
       "      <th>3</th>\n",
       "      <td>28</td>\n",
       "      <td>9 6 11 12 30 65 82 37 47 16 27 26 32 74 141 16...</td>\n",
       "    </tr>\n",
       "    <tr>\n",
       "      <th>4</th>\n",
       "      <td>24</td>\n",
       "      <td>67 66 63 59 61 62 60 66 83 103 139 173 192 194...</td>\n",
       "    </tr>\n",
       "    <tr>\n",
       "      <th>...</th>\n",
       "      <td>...</td>\n",
       "      <td>...</td>\n",
       "    </tr>\n",
       "    <tr>\n",
       "      <th>23700</th>\n",
       "      <td>35</td>\n",
       "      <td>48 47 52 66 78 89 96 104 117 127 139 142 149 1...</td>\n",
       "    </tr>\n",
       "    <tr>\n",
       "      <th>23701</th>\n",
       "      <td>55</td>\n",
       "      <td>101 107 110 114 118 120 127 129 132 137 139 14...</td>\n",
       "    </tr>\n",
       "    <tr>\n",
       "      <th>23702</th>\n",
       "      <td>28</td>\n",
       "      <td>161 134 113 114 98 93 92 90 82 58 23 45 85 105...</td>\n",
       "    </tr>\n",
       "    <tr>\n",
       "      <th>23703</th>\n",
       "      <td>3</td>\n",
       "      <td>65 82 84 129 141 116 43 46 54 71 58 60 64 66 7...</td>\n",
       "    </tr>\n",
       "    <tr>\n",
       "      <th>23704</th>\n",
       "      <td>2</td>\n",
       "      <td>31 40 50 54 66 79 84 100 118 136 150 159 165 1...</td>\n",
       "    </tr>\n",
       "  </tbody>\n",
       "</table>\n",
       "<p>23705 rows × 2 columns</p>\n",
       "</div>"
      ],
      "text/plain": [
       "       age                                             pixels\n",
       "0       45  200 168 96 107 123 132 132 135 135 134 134 137...\n",
       "1        1  223 226 231 234 236 238 238 240 240 240 240 23...\n",
       "2       35  23 29 24 29 47 71 110 141 166 169 169 174 179 ...\n",
       "3       28  9 6 11 12 30 65 82 37 47 16 27 26 32 74 141 16...\n",
       "4       24  67 66 63 59 61 62 60 66 83 103 139 173 192 194...\n",
       "...    ...                                                ...\n",
       "23700   35  48 47 52 66 78 89 96 104 117 127 139 142 149 1...\n",
       "23701   55  101 107 110 114 118 120 127 129 132 137 139 14...\n",
       "23702   28  161 134 113 114 98 93 92 90 82 58 23 45 85 105...\n",
       "23703    3  65 82 84 129 141 116 43 46 54 71 58 60 64 66 7...\n",
       "23704    2  31 40 50 54 66 79 84 100 118 136 150 159 165 1...\n",
       "\n",
       "[23705 rows x 2 columns]"
      ]
     },
     "execution_count": 127,
     "metadata": {},
     "output_type": "execute_result"
    }
   ],
   "source": [
    "import pandas as pd\n",
    "data = pd.read_csv(\"https://wagon-public-datasets.s3.amazonaws.com/certification/face_to_age/images.csv\")\n",
    "data = data.sample(frac=1, random_state=0).reset_index(drop=True)\n",
    "data"
   ]
  },
  {
   "cell_type": "markdown",
   "metadata": {},
   "source": [
    "Each row represent the image of a face in black and white\n",
    "- `age` is the age in year\n",
    "- `pixels` contains the 2304 (= 48 * 48) flatten values of each pixel in the image, in a black scale from 0 to 255, stored as string"
   ]
  },
  {
   "cell_type": "markdown",
   "metadata": {},
   "source": [
    "**❓ Plot the histogram of age in your dataset.**"
   ]
  },
  {
   "cell_type": "code",
   "execution_count": 128,
   "metadata": {
    "ExecuteTime": {
     "end_time": "2021-09-10T13:30:09.163219Z",
     "start_time": "2021-09-10T13:30:08.919754Z"
    },
    "tags": [
     "challengify"
    ]
   },
   "outputs": [
    {
     "data": {
      "text/plain": [
       "Text(0, 0.5, 'Count occurences')"
      ]
     },
     "execution_count": 128,
     "metadata": {},
     "output_type": "execute_result"
    },
    {
     "data": {
      "image/png": "[encoded data removed]",
      "text/plain": [
       "<Figure size 640x480 with 1 Axes>"
      ]
     },
     "metadata": {},
     "output_type": "display_data"
    }
   ],
   "source": [
    "data.age.plot.hist(bins=100,label=\"Age\")\n",
    "plt.title('Distribution of ages')\n",
    "plt.xlabel('Ages')\n",
    "plt.ylabel('Count occurences')"
   ]
  },
  {
   "cell_type": "code",
   "execution_count": 131,
   "metadata": {
    "scrolled": true
   },
   "outputs": [
    {
     "data": {
      "text/plain": [
       "Text(0, 0.5, 'Count occurences')"
      ]
     },
     "execution_count": 131,
     "metadata": {},
     "output_type": "execute_result"
    },
    {
     "data": {
      "image/png": "[encoded data removed]",
      "text/plain": [
       "<Figure size 640x480 with 1 Axes>"
      ]
     },
     "metadata": {},
     "output_type": "display_data"
    }
   ],
   "source": [
    "data.age.plot.hist(bins=20,label=\"Age\")\n",
    "plt.title('Distribution of ages')\n",
    "plt.xlabel('Ages')\n",
    "plt.ylabel('Count occurences')"
   ]
  },
  {
   "cell_type": "code",
   "execution_count": 132,
   "metadata": {},
   "outputs": [
    {
     "data": {
      "text/plain": [
       "33.30090698164944"
      ]
     },
     "execution_count": 132,
     "metadata": {},
     "output_type": "execute_result"
    }
   ],
   "source": [
    "data.age.mean()"
   ]
  },
  {
   "cell_type": "markdown",
   "metadata": {
    "id": "JQ1ew-IAwUNL"
   },
   "source": [
    "**❓ Visually display one image of your choice.**"
   ]
  },
  {
   "cell_type": "code",
   "execution_count": 133,
   "metadata": {
    "ExecuteTime": {
     "end_time": "2021-09-10T13:30:09.760329Z",
     "start_time": "2021-09-10T13:30:09.641448Z"
    },
    "colab": {
     "base_uri": "https://localhost:8080/",
     "height": 284
    },
    "executionInfo": {
     "elapsed": 594,
     "status": "ok",
     "timestamp": 1615229800246,
     "user": {
      "displayName": "Bruno Lajoie",
      "photoUrl": "https://lh3.googleusercontent.com/a-/AOh14Gg0dl6gThG8gOPbCvHbgt62zQnsi8cgbQ7C5HkD_Cg=s64",
      "userId": "15793030209206844069"
     },
     "user_tz": -60
    },
    "id": "q9dLVirWwMoE",
    "outputId": "cd8b8794-35ff-4405-cef7-15909a03b846",
    "tags": [
     "challengify"
    ]
   },
   "outputs": [],
   "source": [
    "def plot_image(index):\n",
    "    image = data.loc[index, 'pixels'] #string of chars\n",
    "#     print(type(image)); print(len(image))\n",
    "    image = image.split(' ') #list of chars values\n",
    "#     print(type(image));  print(len(image)); print(type(image[0]))\n",
    "    image = [int(pix) for pix in image] #list of values converted to integer \n",
    "#     print(type(image));  print(len(image)); print(type(image[0]))\n",
    "    image_reshaped = np.array(image).reshape((48, 48))\n",
    "    plt.imshow(image_reshaped, cmap='gray')\n",
    "\n",
    "\n"
   ]
  },
  {
   "cell_type": "code",
   "execution_count": 134,
   "metadata": {},
   "outputs": [
    {
     "data": {
      "image/png": "[encoded data removed]",
      "text/plain": [
       "<Figure size 640x480 with 1 Axes>"
      ]
     },
     "metadata": {},
     "output_type": "display_data"
    }
   ],
   "source": [
    "plot_image(1)\n",
    "#my baby is cute, no ? "
   ]
  },
  {
   "cell_type": "markdown",
   "metadata": {},
   "source": [
    "**❓ What is the physical characteristic of the image at _index_ `60`?**\n",
    "\n",
    "- Store in the 3 boolean variables `smile`/`glasses`/`hat` the values `True` if the person smiles/wears glasses/has a hat, `False` else."
   ]
  },
  {
   "cell_type": "code",
   "execution_count": 135,
   "metadata": {
    "ExecuteTime": {
     "end_time": "2021-09-10T13:30:37.216365Z",
     "start_time": "2021-09-10T13:30:37.111539Z"
    },
    "tags": [
     "challengify"
    ]
   },
   "outputs": [
    {
     "data": {
      "image/png": "[encoded data removed]",
      "text/plain": [
       "<Figure size 640x480 with 1 Axes>"
      ]
     },
     "metadata": {},
     "output_type": "display_data"
    }
   ],
   "source": [
    "plot_image(60)"
   ]
  },
  {
   "cell_type": "code",
   "execution_count": 136,
   "metadata": {
    "ExecuteTime": {
     "end_time": "2021-09-10T13:30:37.745669Z",
     "start_time": "2021-09-10T13:30:37.741222Z"
    }
   },
   "outputs": [],
   "source": [
    "# Store your result in the variable below\n",
    "\n",
    "smile = True\n",
    "glasses = False\n",
    "hat = False"
   ]
  },
  {
   "cell_type": "markdown",
   "metadata": {},
   "source": [
    "#### 💾 Save your results\n",
    "\n",
    "Run the cell below to save your results."
   ]
  },
  {
   "cell_type": "code",
   "execution_count": 137,
   "metadata": {
    "ExecuteTime": {
     "end_time": "2021-09-10T13:30:41.151566Z",
     "start_time": "2021-09-10T13:30:41.145642Z"
    }
   },
   "outputs": [],
   "source": [
    "from nbresult import ChallengeResult\n",
    "result = ChallengeResult('images_visualization',\n",
    "                         smile=smile,\n",
    "                         glasses=glasses,\n",
    "                         hat=hat)\n",
    "result.write()"
   ]
  },
  {
   "cell_type": "markdown",
   "metadata": {
    "id": "AjeMU0GTwFSe"
   },
   "source": [
    "### 1.2 Processing"
   ]
  },
  {
   "cell_type": "markdown",
   "metadata": {},
   "source": [
    "**❓ Your goal is to train a convolutional neural network model to predict the _age_ of a person based solely on a picture of his/her face.**\n",
    "- Create your **feature matrix** `X` as `ndarray` scaled between 0 and 1\n",
    "- Create your **target vector** `y` as `ndarray`\n",
    "- Create your holdout sets: 4 variables (`X_train`, `y_train`) and (`X_test`, `y_test`) keeping the **first** `70%` as the train set\n",
    "- `X` and `y` shapes should fit a CNN (`model.fit(X,y)`)\n",
    "\n",
    "😌 Don't worry, you will be given the solution in the next question in case you don't make it"
   ]
  },
  {
   "cell_type": "code",
   "execution_count": 138,
   "metadata": {},
   "outputs": [
    {
     "data": {
      "text/plain": [
       "(23705, 2)"
      ]
     },
     "execution_count": 138,
     "metadata": {},
     "output_type": "execute_result"
    }
   ],
   "source": [
    "data.shape"
   ]
  },
  {
   "cell_type": "code",
   "execution_count": 139,
   "metadata": {
    "ExecuteTime": {
     "end_time": "2021-09-10T13:30:55.386164Z",
     "start_time": "2021-09-10T13:30:48.860705Z"
    },
    "executionInfo": {
     "elapsed": 7742,
     "status": "ok",
     "timestamp": 1615229809890,
     "user": {
      "displayName": "Bruno Lajoie",
      "photoUrl": "https://lh3.googleusercontent.com/a-/AOh14Gg0dl6gThG8gOPbCvHbgt62zQnsi8cgbQ7C5HkD_Cg=s64",
      "userId": "15793030209206844069"
     },
     "user_tz": -60
    },
    "id": "2MUSTFTFrp0V",
    "tags": [
     "challengify"
    ]
   },
   "outputs": [
    {
     "name": "stdout",
     "output_type": "stream",
     "text": [
      "<class 'numpy.ndarray'>\n",
      "(23705,)\n",
      "(23705, 48, 48, 1)\n"
     ]
    }
   ],
   "source": [
    "y= np.array(data.age)\n",
    "print(type(y)); print(y.shape)\n",
    "\n",
    "X = []\n",
    "length=data.shape[0]\n",
    "image_size=48\n",
    "for idx in range(length):\n",
    "    image = data.loc[idx, 'pixels']\n",
    "    image = image.split(' ') #list of chars values\n",
    "    image = [int(pix) for pix in image] #list of values converted to integer \n",
    "    image_reshaped = np.array(image).reshape((image_size, image_size,1))\n",
    "    X.append(image_reshaped/255)\n",
    "\n",
    "X = np.array(X)\n",
    "print(X.shape)"
   ]
  },
  {
   "cell_type": "code",
   "execution_count": 140,
   "metadata": {},
   "outputs": [],
   "source": [
    "X_train, X_test, y_train, y_test = train_test_split(X, y, test_size=0.3)"
   ]
  },
  {
   "cell_type": "code",
   "execution_count": 141,
   "metadata": {},
   "outputs": [
    {
     "name": "stdout",
     "output_type": "stream",
     "text": [
      "(16593, 48, 48, 1)\n",
      "(7112, 48, 48, 1)\n",
      "(16593,)\n",
      "(7112,)\n"
     ]
    }
   ],
   "source": [
    "print(X_train.shape);print(X_test.shape);print(y_train.shape);print(y_test.shape);"
   ]
  },
  {
   "cell_type": "code",
   "execution_count": null,
   "metadata": {},
   "outputs": [],
   "source": []
  },
  {
   "cell_type": "markdown",
   "metadata": {},
   "source": [
    "#### 💾 Save your results\n",
    "\n",
    "Run the cell below to save your results."
   ]
  },
  {
   "cell_type": "code",
   "execution_count": 142,
   "metadata": {
    "ExecuteTime": {
     "end_time": "2021-09-10T13:31:00.999738Z",
     "start_time": "2021-09-10T13:31:00.991932Z"
    }
   },
   "outputs": [],
   "source": [
    "from nbresult import ChallengeResult\n",
    "result = ChallengeResult('images_processing', \n",
    "                         X_train_shape = X_train.shape,\n",
    "                         y_train_shape = y_train.shape,\n",
    "                         first_image = X_train[0]\n",
    "                        )\n",
    "result.write()"
   ]
  },
  {
   "cell_type": "markdown",
   "metadata": {
    "id": "3bSHDYC8OlrL"
   },
   "source": [
    "### 1.3 Modeling the age of a face"
   ]
  },
  {
   "cell_type": "markdown",
   "metadata": {},
   "source": [
    "👉 **Only if you haven't managed to create your training sets above**, you can start back from the solution by running the cell below \n",
    "- ⚠️ This will download ~500Mo of `.pickle` files on your current working directory\n",
    "- Then it will load them into 4 ndarrays in memory, and it should delete initial .pickles from your disk"
   ]
  },
  {
   "cell_type": "code",
   "execution_count": 145,
   "metadata": {
    "ExecuteTime": {
     "end_time": "2021-09-10T13:31:12.589361Z",
     "start_time": "2021-09-10T13:31:12.573480Z"
    }
   },
   "outputs": [
    {
     "name": "stdout",
     "output_type": "stream",
     "text": [
      "  % Total    % Received % Xferd  Average Speed   Time    Time     Time  Current\n",
      "                                 Dload  Upload   Total   Spent    Left  Speed\n",
      "100  291M  100  291M    0     0  7617k      0  0:00:39  0:00:39 --:--:-- 5020k\n",
      "  % Total    % Received % Xferd  Average Speed   Time    Time     Time  Current\n",
      "                                 Dload  Upload   Total   Spent    Left  Speed\n",
      "100  124M  100  124M    0     0  3272k      0  0:00:39  0:00:39 --:--:-- 4861k\n",
      "  % Total    % Received % Xferd  Average Speed   Time    Time     Time  Current\n",
      "                                 Dload  Upload   Total   Spent    Left  Speed\n",
      "100  129k  100  129k    0     0   335k      0 --:--:-- --:--:-- --:--:--  335k\n",
      "  % Total    % Received % Xferd  Average Speed   Time    Time     Time  Current\n",
      "                                 Dload  Upload   Total   Spent    Left  Speed\n",
      "100 57039  100 57039    0     0   192k      0 --:--:-- --:--:-- --:--:--  192k\n"
     ]
    }
   ],
   "source": [
    "import pickle\n",
    "\n",
    "def download_solutions():\n",
    "    file_names = [\"images_X_train.pickle\", \"images_X_test.pickle\", \"images_y_train.pickle\", \"images_y_test.pickle\"]\n",
    "    base_url = \"https://wagon-public-datasets.s3.amazonaws.com/certification/face_to_age/\"\n",
    "    pickles = dict()\n",
    "\n",
    "    for file_name in file_names:\n",
    "        url = f\"{base_url + file_name}\"\n",
    "        file_path = f\"data/images/{file_name}\"\n",
    "        command = f\"curl --output {file_path} {url}\"\n",
    "        ! eval {command}\n",
    "        with open(file_path, 'rb') as handle:\n",
    "            pickles[file_name] = pickle.load(handle)\n",
    "        command = f\"rm {file_path}\"\n",
    "        ! eval {command}\n",
    "        \n",
    "    return pickles\n",
    "\n",
    "# UNCOMMENT THIS LINE BELOW TO GET THE CORRECTION IF NEEDED\n",
    "X_train, X_test, y_train, y_test = download_solutions().values()"
   ]
  },
  {
   "cell_type": "code",
   "execution_count": 146,
   "metadata": {},
   "outputs": [],
   "source": [
    "X_train2=X_train\n",
    "X_test2=X_test\n",
    "y_train2=y_train\n",
    "y_test2=y_test\n"
   ]
  },
  {
   "cell_type": "code",
   "execution_count": 147,
   "metadata": {},
   "outputs": [
    {
     "name": "stdout",
     "output_type": "stream",
     "text": [
      "(16594, 48, 48, 1)\n",
      "(7111, 48, 48, 1)\n",
      "(16594,)\n",
      "(7111,)\n"
     ]
    }
   ],
   "source": [
    "print(X_train2.shape);print(X_test2.shape);print(y_train2.shape);print(y_test2.shape);\n",
    "#I was right to download solutions since my split and the Wagon split differs by 1 sample"
   ]
  },
  {
   "cell_type": "markdown",
   "metadata": {},
   "source": [
    "❓ **Before training a complex model, evaluate your baseline score**\n",
    "- We will use the mean absolute error in this challenge\n",
    "- Compute the baseline score on your test set in the \"naive\" case where you always predict mean age\n",
    "- Store the result under `score_baseline`"
   ]
  },
  {
   "cell_type": "code",
   "execution_count": 148,
   "metadata": {
    "ExecuteTime": {
     "end_time": "2021-09-10T13:31:15.147745Z",
     "start_time": "2021-09-10T13:31:15.138524Z"
    },
    "tags": [
     "challengify"
    ]
   },
   "outputs": [
    {
     "name": "stdout",
     "output_type": "stream",
     "text": [
      "Baseline: 22.4 years old\n"
     ]
    }
   ],
   "source": [
    "#My way\n",
    "#MAE = (1/n) * sum(|y_true - y_pred|)\n",
    "\n",
    "def my_mean_absolute_error(y_true, y_pred):\n",
    "  nb_of_samples= len(y_true)\n",
    "  sum = 0\n",
    "  for i in range(nb_of_samples):\n",
    "    sum += abs(y_true[i] - y_pred[i])\n",
    "  return round(sum / nb_of_samples,1)\n",
    "\n",
    "# Calculate the MAE\n",
    "my_score_baseline = my_mean_absolute_error(y_test2, y_train2)\n",
    "\n",
    "print(f\"Baseline: {my_score_baseline} years old\")\n"
   ]
  },
  {
   "cell_type": "code",
   "execution_count": 152,
   "metadata": {},
   "outputs": [
    {
     "name": "stdout",
     "output_type": "stream",
     "text": [
      "Age moyen: 33.10491744003857 years old\n",
      "(7111,)\n",
      "Baseline: 15.4 years old\n"
     ]
    }
   ],
   "source": [
    "#another way using sklearn mean_absolute_error\n",
    "#I prefer to keep this result (15 years) since with a mean age of 33 years, a mean error of 22 years is too much\n",
    "\n",
    "mean_age=np.mean(y_train2)\n",
    "print(f\"Age moyen: {mean_age} years old\")\n",
    "nb_of_samples= len(y_test2)\n",
    "y_pred2=np.full(nb_of_samples,mean_age)\n",
    "print(y_pred2.shape)\n",
    "score_baseline = round(skmean_absolute_error(y_test2, y_pred2),1)\n",
    "\n",
    "print(f\"Baseline: {score_baseline} years old\")\n"
   ]
  },
  {
   "cell_type": "markdown",
   "metadata": {},
   "source": [
    "❓ **Build and fit a convolutional neural network**\n",
    "\n",
    "- Name it `model`\n",
    "- Store output of `.fit()` in a variable `history`\n",
    "- Do not use transfer learning\n",
    "- Make sure your model does not overfit with appropriate control techniques\n",
    "\n",
    "💡 Manage wisely your training time. You should obtain significantly better performance than the baseline in less than 5 minutes with average processor and no graphic cards. "
   ]
  },
  {
   "cell_type": "code",
   "execution_count": 154,
   "metadata": {
    "ExecuteTime": {
     "end_time": "2021-09-10T13:31:29.232178Z",
     "start_time": "2021-09-10T13:31:29.163506Z"
    },
    "colab": {
     "base_uri": "https://localhost:8080/"
    },
    "executionInfo": {
     "elapsed": 427,
     "status": "ok",
     "timestamp": 1615231554099,
     "user": {
      "displayName": "Bruno Lajoie",
      "photoUrl": "https://lh3.googleusercontent.com/a-/AOh14Gg0dl6gThG8gOPbCvHbgt62zQnsi8cgbQ7C5HkD_Cg=s64",
      "userId": "15793030209206844069"
     },
     "user_tz": -60
    },
    "id": "o-vaYNoXTQPS",
    "outputId": "4fe2b570-77a5-4f38-daa7-ff1f5f1fac02",
    "tags": [
     "challengify"
    ]
   },
   "outputs": [
    {
     "name": "stdout",
     "output_type": "stream",
     "text": [
      "Model: \"sequential_6\"\n",
      "_________________________________________________________________\n",
      " Layer (type)                Output Shape              Param #   \n",
      "=================================================================\n",
      " conv2d_4 (Conv2D)           (None, 46, 46, 20)        200       \n",
      "                                                                 \n",
      " max_pooling2d_4 (MaxPooling  (None, 23, 23, 20)       0         \n",
      " 2D)                                                             \n",
      "                                                                 \n",
      " conv2d_5 (Conv2D)           (None, 21, 21, 10)        1810      \n",
      "                                                                 \n",
      " max_pooling2d_5 (MaxPooling  (None, 10, 10, 10)       0         \n",
      " 2D)                                                             \n",
      "                                                                 \n",
      " flatten_3 (Flatten)         (None, 1000)              0         \n",
      "                                                                 \n",
      " dense_12 (Dense)            (None, 8)                 8008      \n",
      "                                                                 \n",
      " dense_13 (Dense)            (None, 1)                 9         \n",
      "                                                                 \n",
      "=================================================================\n",
      "Total params: 10,027\n",
      "Trainable params: 10,027\n",
      "Non-trainable params: 0\n",
      "_________________________________________________________________\n"
     ]
    }
   ],
   "source": [
    "model = models.Sequential()\n",
    "model.add(layers.Conv2D(20, kernel_size=(3, 3), input_shape=(48, 48, 1), activation='relu'))\n",
    "model.add(layers.MaxPool2D((2, 2)))\n",
    "model.add(layers.Conv2D(10, kernel_size=(3, 3), activation='relu')) \n",
    "model.add(layers.MaxPool2D((2, 2))) #limit parameters with 2nd layer\n",
    "model.add(layers.Flatten())\n",
    "model.add(layers.Dense(8, activation='relu'))\n",
    "model.add(layers.Dense(1, activation='linear'))\n",
    "\n",
    "model.compile(\n",
    "    loss = 'mean_absolute_error',\n",
    "    optimizer='adam'\n",
    ")\n",
    "model.summary()"
   ]
  },
  {
   "cell_type": "markdown",
   "metadata": {},
   "source": [
    "❓ **Plot your training and validation MAE at each epoch using the cell below**"
   ]
  },
  {
   "cell_type": "code",
   "execution_count": 155,
   "metadata": {
    "ExecuteTime": {
     "end_time": "2021-09-10T13:38:13.987857Z",
     "start_time": "2021-09-10T13:38:13.959791Z"
    },
    "scrolled": true
   },
   "outputs": [
    {
     "name": "stdout",
     "output_type": "stream",
     "text": [
      "Epoch 1/20\n",
      "415/415 [==============================] - 7s 17ms/step - loss: 16.1368 - val_loss: 14.4725\n",
      "Epoch 2/20\n",
      "415/415 [==============================] - 7s 17ms/step - loss: 13.6964 - val_loss: 13.1509\n",
      "Epoch 3/20\n",
      "415/415 [==============================] - 8s 18ms/step - loss: 12.6262 - val_loss: 11.8788\n",
      "Epoch 4/20\n",
      "415/415 [==============================] - 8s 19ms/step - loss: 11.9113 - val_loss: 11.4045\n",
      "Epoch 5/20\n",
      "415/415 [==============================] - 8s 20ms/step - loss: 11.4908 - val_loss: 11.1269\n",
      "Epoch 6/20\n",
      "415/415 [==============================] - 9s 21ms/step - loss: 11.2401 - val_loss: 10.7815\n",
      "Epoch 7/20\n",
      "415/415 [==============================] - 9s 21ms/step - loss: 11.0046 - val_loss: 10.6478\n",
      "Epoch 8/20\n",
      "415/415 [==============================] - 9s 21ms/step - loss: 10.8012 - val_loss: 11.7590\n",
      "Epoch 9/20\n",
      "415/415 [==============================] - 9s 22ms/step - loss: 10.6058 - val_loss: 10.6555\n",
      "Epoch 10/20\n",
      "415/415 [==============================] - 8s 20ms/step - loss: 10.2939 - val_loss: 10.4028\n",
      "Epoch 11/20\n",
      "415/415 [==============================] - 8s 19ms/step - loss: 10.1404 - val_loss: 9.9424\n",
      "Epoch 12/20\n",
      "415/415 [==============================] - 10s 23ms/step - loss: 9.9288 - val_loss: 9.7439\n",
      "Epoch 13/20\n",
      "415/415 [==============================] - 8s 20ms/step - loss: 9.7063 - val_loss: 9.9074\n",
      "Epoch 14/20\n",
      "415/415 [==============================] - 9s 21ms/step - loss: 9.5693 - val_loss: 9.4918\n",
      "Epoch 15/20\n",
      "415/415 [==============================] - 9s 21ms/step - loss: 9.3663 - val_loss: 9.8748\n",
      "Epoch 16/20\n",
      "415/415 [==============================] - 8s 20ms/step - loss: 9.2951 - val_loss: 9.6539\n",
      "Epoch 17/20\n",
      "415/415 [==============================] - 8s 20ms/step - loss: 9.1223 - val_loss: 9.1469\n",
      "Epoch 18/20\n",
      "415/415 [==============================] - 9s 22ms/step - loss: 8.9349 - val_loss: 9.1480\n",
      "Epoch 19/20\n",
      "415/415 [==============================] - 9s 21ms/step - loss: 8.7753 - val_loss: 8.9384\n",
      "Epoch 20/20\n",
      "415/415 [==============================] - 8s 20ms/step - loss: 8.7811 - val_loss: 9.1188\n"
     ]
    }
   ],
   "source": [
    "es = EarlyStopping(patience = 5, restore_best_weights=True)\n",
    "history = model.fit(\n",
    "    X_train2, y_train2,\n",
    "    epochs = 20,\n",
    "    batch_size = 32,\n",
    "    validation_split = 0.2,\n",
    "    callbacks=[es]\n",
    ")\n",
    "\n",
    "\n"
   ]
  },
  {
   "cell_type": "code",
   "execution_count": 156,
   "metadata": {},
   "outputs": [
    {
     "name": "stdout",
     "output_type": "stream",
     "text": [
      "dict_keys(['loss', 'val_loss'])\n",
      "value_loss [16.136756896972656, 13.696412086486816, 12.626204490661621, 11.911253929138184, 11.49083423614502, 11.240142822265625, 11.004557609558105, 10.801246643066406, 10.60581111907959, 10.293888092041016, 10.140392303466797, 9.928832054138184, 9.706310272216797, 9.569252967834473, 9.366279602050781, 9.295146942138672, 9.122332572937012, 8.934857368469238, 8.775308609008789, 8.781112670898438]\n",
      "\n",
      "values_val_loss [14.472526550292969, 13.150947570800781, 11.878809928894043, 11.404491424560547, 11.126872062683105, 10.781500816345215, 10.647804260253906, 11.758987426757812, 10.655527114868164, 10.402790069580078, 9.942404747009277, 9.743885040283203, 9.907421112060547, 9.491752624511719, 9.874802589416504, 9.653916358947754, 9.146921157836914, 9.148015975952148, 8.938404083251953, 9.118800163269043]\n"
     ]
    }
   ],
   "source": [
    "keys = history.history.keys()\n",
    "print(keys) \n",
    "value_loss = history.history['loss']\n",
    "print(\"value_loss\",value_loss)  \n",
    "values_val_loss = history.history['val_loss']\n",
    "print(\"\\nvalues_val_loss\",values_val_loss)  "
   ]
  },
  {
   "cell_type": "code",
   "execution_count": 157,
   "metadata": {},
   "outputs": [
    {
     "data": {
      "image/png": "[encoded data removed]",
      "text/plain": [
       "<Figure size 640x480 with 1 Axes>"
      ]
     },
     "metadata": {},
     "output_type": "display_data"
    }
   ],
   "source": [
    "plt.plot(history.history['loss'], label = 'Training Set')\n",
    "plt.plot(history.history['val_loss'], label = 'Validation set ')\n",
    "plt.ylabel('loss score', fontsize = 14)\n",
    "plt.xlabel('NB EPOCHS', fontsize = 14)\n",
    "plt.title('Train and Val Loss using MAE', fontsize = 18, y = 1.03)\n",
    "plt.legend()\n",
    "\n",
    "fig = plt.gcf()\n",
    "fig.savefig(\"tests/history.png\")"
   ]
  },
  {
   "cell_type": "markdown",
   "metadata": {},
   "source": [
    "❓ **Evaluate your performances on test set**\n",
    "- Store your test score as `score_test`"
   ]
  },
  {
   "cell_type": "code",
   "execution_count": 158,
   "metadata": {
    "ExecuteTime": {
     "end_time": "2021-09-10T13:39:01.322864Z",
     "start_time": "2021-09-10T13:38:59.648669Z"
    },
    "colab": {
     "base_uri": "https://localhost:8080/"
    },
    "executionInfo": {
     "elapsed": 1032,
     "status": "ok",
     "timestamp": 1615231968574,
     "user": {
      "displayName": "Bruno Lajoie",
      "photoUrl": "https://lh3.googleusercontent.com/a-/AOh14Gg0dl6gThG8gOPbCvHbgt62zQnsi8cgbQ7C5HkD_Cg=s64",
      "userId": "15793030209206844069"
     },
     "user_tz": -60
    },
    "id": "RQMpEc4ITdne",
    "outputId": "9a0a5643-6652-4a68-aa86-cd671733ca17",
    "scrolled": true,
    "tags": [
     "challengify"
    ]
   },
   "outputs": [
    {
     "name": "stdout",
     "output_type": "stream",
     "text": [
      "223/223 [==============================] - 1s 5ms/step - loss: 9.1369\n"
     ]
    },
    {
     "data": {
      "text/plain": [
       "9.1"
      ]
     },
     "execution_count": 158,
     "metadata": {},
     "output_type": "execute_result"
    }
   ],
   "source": [
    "score_test = round(model.evaluate(X_test, y_test),1)\n",
    "score_test"
   ]
  },
  {
   "cell_type": "markdown",
   "metadata": {},
   "source": [
    "#### 💾 Save your results\n",
    "\n",
    "Run the cell below to save your results."
   ]
  },
  {
   "cell_type": "code",
   "execution_count": 159,
   "metadata": {},
   "outputs": [
    {
     "name": "stdout",
     "output_type": "stream",
     "text": [
      "([None, 48, 48, 1],)\n",
      "([None, 1],)\n",
      "(['conv2d_4', 'max_pooling2d_4', 'conv2d_5', 'max_pooling2d_5', 'flatten_3', 'dense_12', 'dense_13'],)\n",
      "(10027,)\n",
      "(15.4,)\n",
      "9.1\n"
     ]
    }
   ],
   "source": [
    "input_shape = list(model.input.shape),\n",
    "output_shape = list(model.output.shape),\n",
    "layer_names = [layer.name for layer in model.layers],\n",
    "trainable_params = sum([tf.size(w_matrix).numpy() for w_matrix in model.trainable_variables]),\n",
    "score_baseline = score_baseline,\n",
    "score_test = score_test\n",
    "    \n",
    "print(input_shape)\n",
    "print(output_shape)\n",
    "print(layer_names)\n",
    "print(trainable_params)\n",
    "print(score_baseline)\n",
    "print(score_test)"
   ]
  },
  {
   "cell_type": "code",
   "execution_count": 160,
   "metadata": {
    "ExecuteTime": {
     "end_time": "2021-09-10T13:39:03.545406Z",
     "start_time": "2021-09-10T13:39:03.533292Z"
    }
   },
   "outputs": [],
   "source": [
    "from nbresult import ChallengeResult\n",
    "import tensorflow as tf\n",
    "\n",
    "result = ChallengeResult(\n",
    "    \"cnn\",\n",
    "    input_shape = list(model.input.shape),\n",
    "    output_shape = list(model.output.shape),\n",
    "    layer_names = [layer.name for layer in model.layers],\n",
    "    trainable_params = sum([tf.size(w_matrix).numpy() for w_matrix in model.trainable_variables]),\n",
    "    score_baseline = score_baseline,\n",
    "    score_test = score_test,\n",
    ")\n",
    "result.write()"
   ]
  },
  {
   "cell_type": "markdown",
   "metadata": {},
   "source": [
    "## 2. RNN challenge - Binary Sentiment Analysis of French Movie Reviews"
   ]
  },
  {
   "cell_type": "markdown",
   "metadata": {},
   "source": [
    "### 2.1 Data Preparation (given)"
   ]
  },
  {
   "cell_type": "markdown",
   "metadata": {},
   "source": [
    "Our dataset contains 30,000 french reviews of movies, along with the binary class 1 (positive) or 0 (negative) score"
   ]
  },
  {
   "cell_type": "code",
   "execution_count": 161,
   "metadata": {
    "ExecuteTime": {
     "end_time": "2021-09-10T12:39:58.235963Z",
     "start_time": "2021-09-10T12:39:57.296350Z"
    },
    "executionInfo": {
     "elapsed": 8472,
     "status": "ok",
     "timestamp": 1615382505157,
     "user": {
      "displayName": "Bruno Lajoie",
      "photoUrl": "https://lh3.googleusercontent.com/a-/AOh14Gg0dl6gThG8gOPbCvHbgt62zQnsi8cgbQ7C5HkD_Cg=s64",
      "userId": "15793030209206844069"
     },
     "user_tz": -60
    },
    "id": "IufC0UUhxyGC"
   },
   "outputs": [
    {
     "data": {
      "text/html": [
       "<div>\n",
       "<style scoped>\n",
       "    .dataframe tbody tr th:only-of-type {\n",
       "        vertical-align: middle;\n",
       "    }\n",
       "\n",
       "    .dataframe tbody tr th {\n",
       "        vertical-align: top;\n",
       "    }\n",
       "\n",
       "    .dataframe thead th {\n",
       "        text-align: right;\n",
       "    }\n",
       "</style>\n",
       "<table border=\"1\" class=\"dataframe\">\n",
       "  <thead>\n",
       "    <tr style=\"text-align: right;\">\n",
       "      <th></th>\n",
       "      <th>review</th>\n",
       "      <th>polarity</th>\n",
       "    </tr>\n",
       "  </thead>\n",
       "  <tbody>\n",
       "    <tr>\n",
       "      <th>0</th>\n",
       "      <td>Ça commence à devenir énervant d'avoir l'impre...</td>\n",
       "      <td>0</td>\n",
       "    </tr>\n",
       "    <tr>\n",
       "      <th>1</th>\n",
       "      <td>J'ai aimé ce film, si il ressemble a un docume...</td>\n",
       "      <td>1</td>\n",
       "    </tr>\n",
       "    <tr>\n",
       "      <th>2</th>\n",
       "      <td>Une grosse merde ce haneke ce faire produire p...</td>\n",
       "      <td>0</td>\n",
       "    </tr>\n",
       "    <tr>\n",
       "      <th>3</th>\n",
       "      <td>Beau mélodrame magnifiquement photographié, \"V...</td>\n",
       "      <td>1</td>\n",
       "    </tr>\n",
       "    <tr>\n",
       "      <th>4</th>\n",
       "      <td>A la poursuite du diamant vers est un film pro...</td>\n",
       "      <td>1</td>\n",
       "    </tr>\n",
       "  </tbody>\n",
       "</table>\n",
       "</div>"
      ],
      "text/plain": [
       "                                              review  polarity\n",
       "0  Ça commence à devenir énervant d'avoir l'impre...         0\n",
       "1  J'ai aimé ce film, si il ressemble a un docume...         1\n",
       "2  Une grosse merde ce haneke ce faire produire p...         0\n",
       "3  Beau mélodrame magnifiquement photographié, \"V...         1\n",
       "4  A la poursuite du diamant vers est un film pro...         1"
      ]
     },
     "execution_count": 161,
     "metadata": {},
     "output_type": "execute_result"
    }
   ],
   "source": [
    "# We load the dataset for you\n",
    "data = pd.read_csv('https://wagon-public-datasets.s3.amazonaws.com/certification/movies_reviews/movies_reviews.csv')\n",
    "data.head()"
   ]
  },
  {
   "cell_type": "code",
   "execution_count": 162,
   "metadata": {
    "ExecuteTime": {
     "end_time": "2021-09-10T12:32:01.034441Z",
     "start_time": "2021-09-10T12:32:00.966761Z"
    },
    "executionInfo": {
     "elapsed": 8472,
     "status": "ok",
     "timestamp": 1615382505157,
     "user": {
      "displayName": "Bruno Lajoie",
      "photoUrl": "https://lh3.googleusercontent.com/a-/AOh14Gg0dl6gThG8gOPbCvHbgt62zQnsi8cgbQ7C5HkD_Cg=s64",
      "userId": "15793030209206844069"
     },
     "user_tz": -60
    },
    "id": "IufC0UUhxyGC"
   },
   "outputs": [
    {
     "name": "stdout",
     "output_type": "stream",
     "text": [
      "1    15051\n",
      "0    14900\n",
      "Name: polarity, dtype: int64\n"
     ]
    }
   ],
   "source": [
    "# We create features\n",
    "y = data.polarity\n",
    "X = data.review\n",
    "\n",
    "# We analyse class balance\n",
    "print(pd.value_counts(y))"
   ]
  },
  {
   "cell_type": "code",
   "execution_count": 163,
   "metadata": {
    "ExecuteTime": {
     "end_time": "2021-09-10T12:32:15.223683Z",
     "start_time": "2021-09-10T12:32:15.218429Z"
    },
    "executionInfo": {
     "elapsed": 544,
     "status": "ok",
     "timestamp": 1615383356787,
     "user": {
      "displayName": "Bruno Lajoie",
      "photoUrl": "https://lh3.googleusercontent.com/a-/AOh14Gg0dl6gThG8gOPbCvHbgt62zQnsi8cgbQ7C5HkD_Cg=s64",
      "userId": "15793030209206844069"
     },
     "user_tz": -60
    },
    "id": "yzIpNmSg0XV4"
   },
   "outputs": [
    {
     "name": "stdout",
     "output_type": "stream",
     "text": [
      "polarity: 0 \n",
      "\n",
      "Ça commence à devenir énervant d'avoir l'impression de voir et revoir le même genre de film à savoir : la comédie romantique, surement le genre le plus prolifique de le production française actuelle. Le problème c'est que l'on a souvent affaire à des niaiseries de faible niveau comme celui ci. Avec un scenario ultra balisé et conventionnel, c'est à se demander comment ça peut passer les portes d'un producteur. Bref cette sempiternel histoire d'un homme mentant au nom de l'amour pour reconquérir une femme et qui à la fin se prend son mensonge en pleine figure est d'une originalité affligeante, et ce n'est pas la présence au casting de l'ex miss météo Charlotte Le Bon qui rêve surement d'avoir la même carrière que Louise Bourgoin qui change la donne.\n"
     ]
    }
   ],
   "source": [
    "# We check the first review\n",
    "print(f'polarity: {y[0]} \\n')\n",
    "print(X[0])"
   ]
  },
  {
   "cell_type": "markdown",
   "metadata": {},
   "source": [
    "#### Text Cleaning"
   ]
  },
  {
   "cell_type": "markdown",
   "metadata": {},
   "source": [
    "We performed the following data cleaning for you:\n",
    "- We replaced french accents by their non-accentuated equivalent\n",
    "- We reduced all uppercases to lowercases\n",
    "- We removed any characters outside of a-z\n",
    "\n",
    "Below you can visualize the cleaned dataset:"
   ]
  },
  {
   "cell_type": "code",
   "execution_count": 164,
   "metadata": {
    "ExecuteTime": {
     "end_time": "2021-09-10T12:40:03.296296Z",
     "start_time": "2021-09-10T12:40:02.507020Z"
    }
   },
   "outputs": [
    {
     "data": {
      "text/plain": [
       "'ca commence a devenir enervant de voir et revoir le meme genre de film a savoir la comedie romantique surement le genre le plus prolifique de le production francaise actuelle le probleme que a souvent affaire a des niaiseries de faible niveau comme celui ci avec un scenario ultra balise et conventionnel a se demander comment ca peut passer les portes producteur bref cette sempiternel histoire homme mentant au nom de pour reconquerir une femme et qui a la fin se prend son mensonge en pleine figure est originalite affligeante et ce pas la presence au casting de miss meteo charlotte le bon qui reve surement la meme carriere que louise bourgoin qui change la donne'"
      ]
     },
     "execution_count": 164,
     "metadata": {},
     "output_type": "execute_result"
    }
   ],
   "source": [
    "X_clean = pd.read_csv(\"https://wagon-public-datasets.s3.amazonaws.com/certification/movies_reviews/movies_reviews_clean.csv\")['review']\n",
    "X_clean[0]"
   ]
  },
  {
   "cell_type": "markdown",
   "metadata": {},
   "source": [
    "#### Text preprocessing"
   ]
  },
  {
   "cell_type": "markdown",
   "metadata": {},
   "source": [
    "Then we performed the following preprocessing for you:\n",
    "- We converted each review into a list of integers, each integer representing a _unique_ word from the corpus\n",
    "\n",
    "- We padded every sequences with a maximum length of 100, replacing missing words by `0` at the end\n",
    "\n",
    "- For example, the sentence: `\"this was good\"` is converted into something like `array([1, 3, 18, 0, 0, 0, ...0], dtype=int32)` \n",
    "\n",
    "Below you can visualize the preprocessed dataset:"
   ]
  },
  {
   "cell_type": "code",
   "execution_count": 165,
   "metadata": {},
   "outputs": [
    {
     "name": "stdout",
     "output_type": "stream",
     "text": [
      "  % Total    % Received % Xferd  Average Speed   Time    Time     Time  Current\n",
      "                                 Dload  Upload   Total   Spent    Left  Speed\n",
      "100 71.4M  100 71.4M    0     0  12.1M      0  0:00:05  0:00:05 --:--:-- 14.2M\n"
     ]
    }
   ],
   "source": [
    "!curl 'https://wagon-public-datasets.s3.amazonaws.com/certification/movies_reviews/movies_reviews_preproc.csv' --output \"data/movies_reviews_preproc.csv\""
   ]
  },
  {
   "cell_type": "code",
   "execution_count": 166,
   "metadata": {
    "ExecuteTime": {
     "end_time": "2021-09-10T12:53:52.146876Z",
     "start_time": "2021-09-10T12:53:49.328435Z"
    }
   },
   "outputs": [
    {
     "name": "stdout",
     "output_type": "stream",
     "text": [
      "(29951, 100)\n"
     ]
    },
    {
     "data": {
      "text/plain": [
       "array([15, 16, 17, 18, 10, 12, 10, 19, 20,  6, 10, 21, 22, 23, 10, 24, 25,\n",
       "        3, 26, 27,  3, 28, 29,  6, 30, 31, 32, 33, 34, 35, 36, 37, 38, 39,\n",
       "        8, 40,  3, 41, 42, 43,  1, 44, 45, 46, 47, 48, 49, 50, 51, 52, 53,\n",
       "       54, 55, 56,  6, 57, 58, 59, 60,  8, 61,  3, 15, 62, 41, 63, 64, 65,\n",
       "       66, 67, 68, 69, 70, 71,  8, 72, 73, 15, 74, 55, 75,  6, 76, 77, 78,\n",
       "       10, 79, 61, 80, 18, 15, 11, 81, 25, 82, 83, 61, 84, 15, 85],\n",
       "      dtype=int32)"
      ]
     },
     "execution_count": 166,
     "metadata": {},
     "output_type": "execute_result"
    }
   ],
   "source": [
    "X_preproc = np.genfromtxt(\"data/movies_reviews_preproc.csv\", delimiter=',', dtype='int32')\n",
    "print(X_preproc.shape)\n",
    "X_preproc[0]"
   ]
  },
  {
   "cell_type": "markdown",
   "metadata": {},
   "source": [
    "Here is the dictionary used to translate words into integers:"
   ]
  },
  {
   "cell_type": "code",
   "execution_count": 167,
   "metadata": {
    "ExecuteTime": {
     "end_time": "2021-09-10T12:42:28.639487Z",
     "start_time": "2021-09-10T12:42:28.139498Z"
    }
   },
   "outputs": [
    {
     "name": "stdout",
     "output_type": "stream",
     "text": [
      "  % Total    % Received % Xferd  Average Speed   Time    Time     Time  Current\n",
      "                                 Dload  Upload   Total   Spent    Left  Speed\n",
      "100  848k  100  848k    0     0  1641k      0 --:--:-- --:--:-- --:--:-- 1644k\n",
      "62379\n"
     ]
    }
   ],
   "source": [
    "!curl \"https://wagon-public-datasets.s3.amazonaws.com/certification/movies_reviews/movies_reviews_word_to_integer.pickle\" --output \"data/word_to_integer.pickle\"\n",
    "import pickle\n",
    "\n",
    "with open('data/word_to_integer.pickle', 'rb') as handle:\n",
    "    word_to_id = pickle.load(handle)\n",
    "\n",
    "print(len(word_to_id))\n"
   ]
  },
  {
   "cell_type": "markdown",
   "metadata": {},
   "source": [
    "Finally, we holdout for you a test set"
   ]
  },
  {
   "cell_type": "code",
   "execution_count": 176,
   "metadata": {
    "ExecuteTime": {
     "end_time": "2021-09-10T13:10:50.759447Z",
     "start_time": "2021-09-10T13:10:50.753972Z"
    }
   },
   "outputs": [
    {
     "name": "stdout",
     "output_type": "stream",
     "text": [
      "(20966, 100) (20966,) (8985, 100) (8985,)\n"
     ]
    }
   ],
   "source": [
    "idx_split = round(len(X_preproc)*0.7)\n",
    "\n",
    "X_train = X_preproc[0:idx_split]\n",
    "y_train = y[0:idx_split]\n",
    "X_test = X_preproc[idx_split:]\n",
    "y_test = y[idx_split:]\n",
    "\n",
    "print(X_train.shape, y_train.shape, X_test.shape, y_test.shape)"
   ]
  },
  {
   "cell_type": "markdown",
   "metadata": {},
   "source": [
    "### 2.2 Modeling Sentiment Score"
   ]
  },
  {
   "cell_type": "markdown",
   "metadata": {},
   "source": [
    "❓ **Before training a complex model, evaluate your baseline score**\n",
    "- We will use the _accuracy_ as performance metric in this challenge\n",
    "- What would be your baseline score?\n",
    "- Store the result under `score_baseline`"
   ]
  },
  {
   "cell_type": "code",
   "execution_count": 177,
   "metadata": {
    "ExecuteTime": {
     "end_time": "2021-09-10T13:23:32.295429Z",
     "start_time": "2021-09-10T13:23:32.280826Z"
    },
    "tags": [
     "challengify"
    ]
   },
   "outputs": [],
   "source": [
    "#since it is a binairy target with a well distributed train set\n",
    "score_baseline_RNN=0.5"
   ]
  },
  {
   "cell_type": "markdown",
   "metadata": {},
   "source": [
    "❓ **Build and fit a neural network**\n",
    "\n",
    "- Name it `model`\n",
    "- Store output of `.fit()` in a variable `history`\n",
    "- You **cannot** use transfer learning nor any other pre-trained models\n",
    "- You must use a **Recurrent** architecture to _capture_ a notion of order in the sentences' words\n",
    "- Make sure your model does not overfit with appropriate control techniques\n",
    "- You don't need to cross-validate your model. Simply hold-out a validation set as you see fit\n",
    "- Manage wisely your training time\n",
    "\n",
    "💡 You will not be judged by the computing power of your computer, but you should obtain significantly better performance than the baseline in less than 5 minutes without GPUs"
   ]
  },
  {
   "cell_type": "code",
   "execution_count": 178,
   "metadata": {
    "ExecuteTime": {
     "end_time": "2021-09-10T13:28:44.426578Z",
     "start_time": "2021-09-10T13:28:44.415591Z"
    },
    "executionInfo": {
     "elapsed": 663,
     "status": "ok",
     "timestamp": 1615315437343,
     "user": {
      "displayName": "Bruno Lajoie",
      "photoUrl": "https://lh3.googleusercontent.com/a-/AOh14Gg0dl6gThG8gOPbCvHbgt62zQnsi8cgbQ7C5HkD_Cg=s64",
      "userId": "15793030209206844069"
     },
     "user_tz": -60
    },
    "id": "itw-cgT2Mjvl",
    "tags": [
     "challengify"
    ]
   },
   "outputs": [
    {
     "name": "stdout",
     "output_type": "stream",
     "text": [
      "Model: \"sequential_8\"\n",
      "_________________________________________________________________\n",
      " Layer (type)                Output Shape              Param #   \n",
      "=================================================================\n",
      " embedding_4 (Embedding)     (None, None, 100)         6238000   \n",
      "                                                                 \n",
      " gru_4 (GRU)                 (None, 10)                3360      \n",
      "                                                                 \n",
      " dense_16 (Dense)            (None, 10)                110       \n",
      "                                                                 \n",
      " dense_17 (Dense)            (None, 1)                 11        \n",
      "                                                                 \n",
      "=================================================================\n",
      "Total params: 6,241,481\n",
      "Trainable params: 6,241,481\n",
      "Non-trainable params: 0\n",
      "_________________________________________________________________\n"
     ]
    }
   ],
   "source": [
    "es = EarlyStopping(monitor='val_accuracy', patience = 5, restore_best_weights=True)\n",
    "model_RNN = models.Sequential()\n",
    "model_RNN.add(layers.Embedding(\n",
    "    input_dim=len(word_to_id)+1,\n",
    "    output_dim= 100,\n",
    "    mask_zero=True,\n",
    "))\n",
    "model_RNN.add(layers.GRU(10, activation='tanh'))\n",
    "model_RNN.add(layers.Dense(10, activation = 'relu'))\n",
    "model_RNN.add(layers.Dense(1, activation = 'sigmoid'))\n",
    "\n",
    "model_RNN.compile(\n",
    "    loss = 'binary_crossentropy',\n",
    "    optimizer = 'rmsprop',\n",
    "    metrics = 'accuracy'\n",
    ")\n",
    "\n",
    "model_RNN.summary()"
   ]
  },
  {
   "cell_type": "code",
   "execution_count": 179,
   "metadata": {},
   "outputs": [
    {
     "name": "stdout",
     "output_type": "stream",
     "text": [
      "Epoch 1/10\n",
      "263/263 [==============================] - 23s 77ms/step - loss: 0.4927 - accuracy: 0.7595 - val_loss: 0.3423 - val_accuracy: 0.8517\n",
      "Epoch 2/10\n",
      "263/263 [==============================] - 20s 77ms/step - loss: 0.2399 - accuracy: 0.9097 - val_loss: 0.3201 - val_accuracy: 0.8677\n",
      "Epoch 3/10\n",
      "263/263 [==============================] - 21s 82ms/step - loss: 0.1622 - accuracy: 0.9416 - val_loss: 0.5672 - val_accuracy: 0.7909\n",
      "Epoch 4/10\n",
      "263/263 [==============================] - 22s 82ms/step - loss: 0.1222 - accuracy: 0.9553 - val_loss: 0.3565 - val_accuracy: 0.8701\n",
      "Epoch 5/10\n",
      "263/263 [==============================] - 24s 90ms/step - loss: 0.0978 - accuracy: 0.9658 - val_loss: 0.2866 - val_accuracy: 0.8908\n",
      "Epoch 6/10\n",
      "263/263 [==============================] - 24s 93ms/step - loss: 0.0795 - accuracy: 0.9725 - val_loss: 0.3190 - val_accuracy: 0.8875\n",
      "Epoch 7/10\n",
      "263/263 [==============================] - 25s 95ms/step - loss: 0.0669 - accuracy: 0.9782 - val_loss: 0.3255 - val_accuracy: 0.8879\n",
      "Epoch 8/10\n",
      "263/263 [==============================] - 26s 99ms/step - loss: 0.0558 - accuracy: 0.9807 - val_loss: 0.3597 - val_accuracy: 0.8820\n",
      "Epoch 9/10\n",
      "263/263 [==============================] - 26s 100ms/step - loss: 0.0475 - accuracy: 0.9827 - val_loss: 0.4057 - val_accuracy: 0.8805\n",
      "Epoch 10/10\n",
      "263/263 [==============================] - 27s 103ms/step - loss: 0.0393 - accuracy: 0.9865 - val_loss: 0.3815 - val_accuracy: 0.8808\n"
     ]
    }
   ],
   "source": [
    "history_RNN = model_RNN.fit(\n",
    "    X_train, y_train,\n",
    "    validation_split = 0.2,\n",
    "    epochs = 10,\n",
    "    batch_size = 64,\n",
    "    callbacks = [es]\n",
    ")"
   ]
  },
  {
   "cell_type": "code",
   "execution_count": 180,
   "metadata": {},
   "outputs": [
    {
     "name": "stdout",
     "output_type": "stream",
     "text": [
      "dict_keys(['loss', 'accuracy', 'val_loss', 'val_accuracy'])\n",
      "\n",
      "value_loss [0.49269402027130127, 0.2398504614830017, 0.1622316837310791, 0.12218302488327026, 0.09781802445650101, 0.0795130729675293, 0.06694674491882324, 0.055787477642297745, 0.04754207283258438, 0.039265114814043045]\n",
      "\u0007ccuracy [0.7594800591468811, 0.909670889377594, 0.9416289329528809, 0.9552826285362244, 0.9658359289169312, 0.972513735294342, 0.978237509727478, 0.9806820750236511, 0.9827092885971069, 0.9865251779556274]\n",
      "\n",
      "values_val_loss [0.3422957956790924, 0.32009631395339966, 0.567234992980957, 0.35653337836265564, 0.2865557074546814, 0.3190288841724396, 0.3255425691604614, 0.3596878945827484, 0.4056589603424072, 0.3815494179725647]\n",
      "\u000b",
      "al_accuracy [0.8516929149627686, 0.867668092250824, 0.7908917665481567, 0.8700524568557739, 0.8907963633537292, 0.8874582648277283, 0.8879351615905762, 0.8819742202758789, 0.8805436491966248, 0.8807820677757263]\n"
     ]
    }
   ],
   "source": [
    "keys = history_RNN.history.keys()\n",
    "print(keys) \n",
    "value_loss = history_RNN.history['loss']\n",
    "print(\"\\nvalue_loss\",value_loss)  \n",
    "value_acc = history_RNN.history['accuracy']\n",
    "print(\"\\accuracy\",value_acc)  \n",
    "\n",
    "values_val_loss = history_RNN.history['val_loss']\n",
    "print(\"\\nvalues_val_loss\",values_val_loss) \n",
    "value_val_acc = history_RNN.history['val_accuracy']\n",
    "print(\"\\val_accuracy\",value_val_acc) "
   ]
  },
  {
   "cell_type": "markdown",
   "metadata": {},
   "source": [
    "❓ **Plot your training and validation Accuracy at each epoch using the cell below**"
   ]
  },
  {
   "cell_type": "code",
   "execution_count": 181,
   "metadata": {
    "ExecuteTime": {
     "end_time": "2021-09-10T13:29:16.945870Z",
     "start_time": "2021-09-10T13:29:16.930183Z"
    }
   },
   "outputs": [
    {
     "data": {
      "image/png": "[encoded data removed]",
      "text/plain": [
       "<Figure size 640x480 with 1 Axes>"
      ]
     },
     "metadata": {},
     "output_type": "display_data"
    }
   ],
   "source": [
    "#I choose to make 2 plots since the dimensionnality of accuracy and loss is different\n",
    "\n",
    "#First plot is LOSS\n",
    "plt.plot(history_RNN.history['loss'], label = 'Training Set')\n",
    "plt.plot(history_RNN.history['val_loss'], label = 'Validation set ')\n",
    "plt.ylabel('loss score', fontsize = 14)\n",
    "plt.xlabel('NB EPOCHS', fontsize = 14)\n",
    "plt.title('Train and Val Loss using binary_crossentropy', fontsize = 18, y = 1.03)\n",
    "plt.legend()\n",
    "\n",
    "fig = plt.gcf()\n",
    "fig.savefig(\"tests/history_lossRNN.png\")"
   ]
  },
  {
   "cell_type": "code",
   "execution_count": 182,
   "metadata": {},
   "outputs": [
    {
     "data": {
      "image/png": "[encoded data removed]",
      "text/plain": [
       "<Figure size 640x480 with 1 Axes>"
      ]
     },
     "metadata": {},
     "output_type": "display_data"
    }
   ],
   "source": [
    "#Second plot is accuracy\n",
    "plt.plot(history_RNN.history['accuracy'], label = 'Training Set')\n",
    "plt.plot(history_RNN.history['val_accuracy'], label = 'Validation set ')\n",
    "plt.ylabel('accuracy purcentage', fontsize = 14)\n",
    "plt.xlabel('NB EPOCHS', fontsize = 14)\n",
    "plt.title('Train and Val Accuracy', fontsize = 18, y = 1.03)\n",
    "plt.legend()\n",
    "\n",
    "fig = plt.gcf()\n",
    "fig.savefig(\"tests/history_accuracyRNN.png\")"
   ]
  },
  {
   "cell_type": "markdown",
   "metadata": {},
   "source": [
    "❓ **Evaluate your performances on test set**\n",
    "- Store your test score as `score_test`"
   ]
  },
  {
   "cell_type": "code",
   "execution_count": 183,
   "metadata": {
    "ExecuteTime": {
     "end_time": "2021-09-10T13:29:23.269829Z",
     "start_time": "2021-09-10T13:29:21.811565Z"
    },
    "colab": {
     "base_uri": "https://localhost:8080/"
    },
    "executionInfo": {
     "elapsed": 1032,
     "status": "ok",
     "timestamp": 1615231968574,
     "user": {
      "displayName": "Bruno Lajoie",
      "photoUrl": "https://lh3.googleusercontent.com/a-/AOh14Gg0dl6gThG8gOPbCvHbgt62zQnsi8cgbQ7C5HkD_Cg=s64",
      "userId": "15793030209206844069"
     },
     "user_tz": -60
    },
    "id": "RQMpEc4ITdne",
    "outputId": "9a0a5643-6652-4a68-aa86-cd671733ca17",
    "scrolled": true,
    "tags": [
     "challengify"
    ]
   },
   "outputs": [
    {
     "name": "stdout",
     "output_type": "stream",
     "text": [
      "281/281 [==============================] - 3s 12ms/step - loss: 0.2907 - accuracy: 0.8944\n"
     ]
    },
    {
     "data": {
      "text/plain": [
       "0.89"
      ]
     },
     "execution_count": 183,
     "metadata": {},
     "output_type": "execute_result"
    }
   ],
   "source": [
    "#let's Keep accuracy\n",
    "score_test = round(model_RNN.evaluate(X_test, y_test)[1],2)\n",
    "score_test"
   ]
  },
  {
   "cell_type": "markdown",
   "metadata": {},
   "source": [
    "#### 💾 Save your results\n",
    "\n",
    "Run the cell below to save your results."
   ]
  },
  {
   "cell_type": "code",
   "execution_count": 184,
   "metadata": {},
   "outputs": [
    {
     "name": "stdout",
     "output_type": "stream",
     "text": [
      "(None, None)\n",
      "(None, 1)\n",
      "['embedding_4', 'gru_4', 'dense_16', 'dense_17']\n",
      "(6241481,)\n",
      "0.5\n",
      "0.89\n"
     ]
    }
   ],
   "source": [
    "model=model_RNN\n",
    "history=history_RNN\n",
    "print(model.input.shape)\n",
    "print(model.output.shape)\n",
    "layer_names = [layer.name for layer in model.layers]\n",
    "print(layer_names)\n",
    "trainable_params = sum([tf.size(w_matrix).numpy() for w_matrix in model.trainable_variables]),\n",
    "print(trainable_params)\n",
    "score_baseline=score_baseline_RNN\n",
    "print(score_baseline)\n",
    "print(score_test)\n",
    "\n",
    "\n"
   ]
  },
  {
   "cell_type": "code",
   "execution_count": 185,
   "metadata": {
    "ExecuteTime": {
     "end_time": "2021-09-10T13:29:24.294848Z",
     "start_time": "2021-09-10T13:29:24.285490Z"
    }
   },
   "outputs": [],
   "source": [
    "from nbresult import ChallengeResult\n",
    "\n",
    "result = ChallengeResult(\n",
    "    \"rnn\",\n",
    "    input_shape = list(model.input.shape),\n",
    "    output_shape = list(model.output.shape),\n",
    "    layer_names = [layer.name for layer in model.layers],\n",
    "    trainable_params = sum([tf.size(w_matrix).numpy() for w_matrix in model.trainable_variables]),\n",
    "    score_baseline = score_baseline,\n",
    "    score_test = score_test,\n",
    ")\n",
    "result.write()"
   ]
  }
 ],
 "metadata": {
  "accelerator": "GPU",
  "colab": {
   "authorship_tag": "ABX9TyMOYn4GJAg9EKtu1bGhcoI1",
   "collapsed_sections": [],
   "name": "certification_DL_images",
   "provenance": [],
   "toc_visible": true
  },
  "kernelspec": {
   "display_name": "Python 3 (ipykernel)",
   "language": "python",
   "name": "python3"
  },
  "language_info": {
   "codemirror_mode": {
    "name": "ipython",
    "version": 3
   },
   "file_extension": ".py",
   "mimetype": "text/x-python",
   "name": "python",
   "nbconvert_exporter": "python",
   "pygments_lexer": "ipython3",
   "version": "3.10.6"
  },
  "toc": {
   "base_numbering": 1,
   "nav_menu": {},
   "number_sections": false,
   "sideBar": true,
   "skip_h1_title": false,
   "title_cell": "Table of Contents",
   "title_sidebar": "Contents",
   "toc_cell": false,
   "toc_position": {
    "height": "calc(100% - 180px)",
    "left": "10px",
    "top": "150px",
    "width": "336px"
   },
   "toc_section_display": true,
   "toc_window_display": true
  }
 },
 "nbformat": 4,
 "nbformat_minor": 1
}
